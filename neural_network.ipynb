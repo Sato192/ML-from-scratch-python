{
 "cells": [
  {
   "cell_type": "code",
   "execution_count": null,
   "id": "5bba6b62",
   "metadata": {},
   "outputs": [],
   "source": [
    "\n",
    "import numpy as np\n",
    "\n",
    "class Neural_network:\n",
    "    \n",
    "    def __init__(self,input_layer,hidden_layer_size,output_layer_size):\n",
    "        self.input_layer=np.hstack((input_layer,np.ones((input_layer[:,0].size,1)))).T\n",
    "        self.hidden_layer_size=hidden_layer_size\n",
    "        self.output_layer_size=output_layer_size\n",
    "        self.hidden_layer=[]\n",
    "        self.output_layer=[]\n",
    "        self.U1=np.random.random((self.input_layer.shape[0],self.hidden_layer_size))\n",
    "        self.U2=np.random.random((self.hidden_layer_size,self.output_layer_size))\n",
    "    def sigmoid(self,x):\n",
    "        return 1/(1+np.exp(-x))\n",
    "    def feed_forword(self):\n",
    "        \n",
    "        self.hidden_layer= self.sigmoid(self.U1.T @ self.input_layer)\n",
    "        self.output_layer = self.sigmoid(self.U2.T @ self.hidden_layer)\n",
    "        \n",
    "        self.output_layer = self.output_layer / self.output_layer.sum(axis=0)\n",
    "        \n",
    "        return self.output_layer.T\n",
    "    def backpropagation(self):\n",
    "        \n"
   ]
  },
  {
   "cell_type": "code",
   "execution_count": 77,
   "id": "b54dfc33",
   "metadata": {},
   "outputs": [
    {
     "data": {
      "text/plain": [
       "(80, 3)"
      ]
     },
     "execution_count": 77,
     "metadata": {},
     "output_type": "execute_result"
    }
   ],
   "source": [
    "import matplotlib.pyplot as plt\n",
    "from sklearn.model_selection import train_test_split\n",
    "from sklearn import datasets\n",
    "\n",
    "X, y = datasets.make_blobs(n_samples=100, centers=2, n_features=2, center_box=(0, 10))\n",
    "# plt.plot(X[:, 0][y == 0], X[:, 1][y == 0], 'g^')\n",
    "# plt.plot(X[:, 0][y == 1], X[:, 1][y == 1], 'bs')\n",
    "# plt.show()\n",
    "\n",
    "x_train,x_test,y_train,y_test=train_test_split(X,y,test_size=0.2)\n",
    "np.hstack((x_train,np.ones((x_train[:,0].size,1)))).shape\n"
   ]
  },
  {
   "cell_type": "code",
   "execution_count": 96,
   "id": "5b27799f",
   "metadata": {},
   "outputs": [
    {
     "data": {
      "text/plain": [
       "array([[0.49870082, 0.50129918],\n",
       "       [0.49869878, 0.50130122],\n",
       "       [0.49840585, 0.50159415],\n",
       "       [0.50113342, 0.49886658],\n",
       "       [0.4987009 , 0.5012991 ],\n",
       "       [0.49870088, 0.50129912],\n",
       "       [0.49869697, 0.50130303],\n",
       "       [0.50189687, 0.49810313],\n",
       "       [0.49848828, 0.50151172],\n",
       "       [0.49848376, 0.50151624],\n",
       "       [0.49870071, 0.50129929],\n",
       "       [0.498853  , 0.501147  ],\n",
       "       [0.49870071, 0.50129929],\n",
       "       [0.49870028, 0.50129972],\n",
       "       [0.49864266, 0.50135734],\n",
       "       [0.49864942, 0.50135058],\n",
       "       [0.49872335, 0.50127665],\n",
       "       [0.49870009, 0.50129991],\n",
       "       [0.498701  , 0.501299  ],\n",
       "       [0.49869945, 0.50130055],\n",
       "       [0.49870067, 0.50129933],\n",
       "       [0.49864333, 0.50135667],\n",
       "       [0.49867974, 0.50132026],\n",
       "       [0.49869823, 0.50130177],\n",
       "       [0.49872477, 0.50127523],\n",
       "       [0.49847564, 0.50152436],\n",
       "       [0.49891747, 0.50108253],\n",
       "       [0.49870057, 0.50129943],\n",
       "       [0.4986999 , 0.5013001 ],\n",
       "       [0.49793798, 0.50206202],\n",
       "       [0.49992705, 0.50007295],\n",
       "       [0.49870106, 0.50129894],\n",
       "       [0.49869985, 0.50130015],\n",
       "       [0.49870118, 0.50129882],\n",
       "       [0.49864724, 0.50135276],\n",
       "       [0.50013967, 0.49986033],\n",
       "       [0.49870075, 0.50129925],\n",
       "       [0.49917048, 0.50082952],\n",
       "       [0.49870085, 0.50129915],\n",
       "       [0.49872867, 0.50127133],\n",
       "       [0.49870111, 0.50129889],\n",
       "       [0.49870097, 0.50129903],\n",
       "       [0.49870032, 0.50129968],\n",
       "       [0.50384821, 0.49615179],\n",
       "       [0.49870111, 0.50129889],\n",
       "       [0.49868637, 0.50131363],\n",
       "       [0.49870115, 0.50129885],\n",
       "       [0.49869358, 0.50130642],\n",
       "       [0.49869992, 0.50130008],\n",
       "       [0.49870096, 0.50129904],\n",
       "       [0.49832211, 0.50167789],\n",
       "       [0.49903691, 0.50096309],\n",
       "       [0.49869823, 0.50130177],\n",
       "       [0.49870003, 0.50129997],\n",
       "       [0.49969806, 0.50030194],\n",
       "       [0.49905304, 0.50094696],\n",
       "       [0.49870017, 0.50129983],\n",
       "       [0.49869766, 0.50130234],\n",
       "       [0.49862357, 0.50137643],\n",
       "       [0.49869933, 0.50130067],\n",
       "       [0.49858106, 0.50141894],\n",
       "       [0.49753477, 0.50246523],\n",
       "       [0.49884622, 0.50115378],\n",
       "       [0.49869795, 0.50130205],\n",
       "       [0.49862233, 0.50137767],\n",
       "       [0.49870079, 0.50129921],\n",
       "       [0.49867523, 0.50132477],\n",
       "       [0.49870101, 0.50129899],\n",
       "       [0.4987005 , 0.5012995 ],\n",
       "       [0.49866122, 0.50133878],\n",
       "       [0.49811239, 0.50188761],\n",
       "       [0.49870123, 0.50129877],\n",
       "       [0.4987004 , 0.5012996 ],\n",
       "       [0.49924535, 0.50075465],\n",
       "       [0.49869822, 0.50130178],\n",
       "       [0.49870003, 0.50129997],\n",
       "       [0.49870074, 0.50129926],\n",
       "       [0.49870065, 0.50129935],\n",
       "       [0.4988583 , 0.5011417 ],\n",
       "       [0.49870084, 0.50129916]])"
      ]
     },
     "execution_count": 96,
     "metadata": {},
     "output_type": "execute_result"
    }
   ],
   "source": [
    "my_neural_network = Neural_network(input_layer=x_train,hidden_layer_size=4,output_layer_size=2)\n",
    "\n",
    "my_neural_network.feed_forword()\n"
   ]
  },
  {
   "cell_type": "code",
   "execution_count": null,
   "id": "43f037a9",
   "metadata": {},
   "outputs": [],
   "source": []
  }
 ],
 "metadata": {
  "kernelspec": {
   "display_name": "base",
   "language": "python",
   "name": "python3"
  },
  "language_info": {
   "codemirror_mode": {
    "name": "ipython",
    "version": 3
   },
   "file_extension": ".py",
   "mimetype": "text/x-python",
   "name": "python",
   "nbconvert_exporter": "python",
   "pygments_lexer": "ipython3",
   "version": "3.12.7"
  }
 },
 "nbformat": 4,
 "nbformat_minor": 5
}
