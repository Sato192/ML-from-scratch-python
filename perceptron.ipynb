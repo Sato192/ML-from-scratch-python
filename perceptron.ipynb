{
 "cells": [
  {
   "cell_type": "code",
   "execution_count": 561,
   "id": "84909a9a",
   "metadata": {},
   "outputs": [],
   "source": [
    "import numpy as np\n",
    "\n",
    "class Perceptron:\n",
    "    def __init__(self, eta=0.01, n_iter=1000):\n",
    "        self.eta = eta\n",
    "        self.n_iter = n_iter\n",
    "        self.betazero=0\n",
    "        \n",
    "    def weighted_sum(self, X):\n",
    "        return np.dot(self.beta.T,X.T) + self.betazero\n",
    "    \n",
    "    def predict(self, X):\n",
    "        return np.where(self.weighted_sum(X) >= 0.0, 1, -1).T\n",
    "\n",
    "    \n",
    "    def fit(self, X, Y,tol=10**-3):\n",
    "\n",
    "        # initializing the weights to 0\n",
    "        self.beta = np.random.random((X[0].size,1))\n",
    "        self.betazero=np.random.random()\n",
    "        \n",
    "        # training the model n_iter times\n",
    "        for _ in range(self.n_iter):\n",
    "            gradiant_beta = []\n",
    "            gradient_betazero=[]\n",
    "            for x , y in zip(X,Y):\n",
    "                if y*(self.predict(x)[0]) <0:\n",
    "                    gradiant_beta.append(y*x)\n",
    "                    gradient_betazero.append(y)\n",
    "            if not gradiant_beta :\n",
    "                print(\" no erroes -> converge\")\n",
    "                return self\n",
    "            oldbetazero=self.betazero\n",
    "            oldbeta=self.beta\n",
    "            self.betazero+=self.eta*np.sum(np.array(gradient_betazero))\n",
    "            self.beta += self.eta*np.sum(np.array(gradiant_beta),axis=0).reshape(self.beta.shape)\n",
    "            if ((abs(self.betazero-oldbetazero))+np.linalg.norm((self.beta)-(oldbeta)) < tol):\n",
    "                print(\"converge\")\n",
    "                return self\n",
    "            \n",
    "\n",
    "        return self"
   ]
  },
  {
   "cell_type": "code",
   "execution_count": 5,
   "id": "60f916a5",
   "metadata": {},
   "outputs": [
    {
     "data": {
      "text/html": [
       "<div>\n",
       "<style scoped>\n",
       "    .dataframe tbody tr th:only-of-type {\n",
       "        vertical-align: middle;\n",
       "    }\n",
       "\n",
       "    .dataframe tbody tr th {\n",
       "        vertical-align: top;\n",
       "    }\n",
       "\n",
       "    .dataframe thead th {\n",
       "        text-align: right;\n",
       "    }\n",
       "</style>\n",
       "<table border=\"1\" class=\"dataframe\">\n",
       "  <thead>\n",
       "    <tr style=\"text-align: right;\">\n",
       "      <th></th>\n",
       "      <th>0</th>\n",
       "      <th>1</th>\n",
       "      <th>2</th>\n",
       "      <th>3</th>\n",
       "      <th>4</th>\n",
       "    </tr>\n",
       "  </thead>\n",
       "  <tbody>\n",
       "    <tr>\n",
       "      <th>119</th>\n",
       "      <td>6.0</td>\n",
       "      <td>2.2</td>\n",
       "      <td>5.0</td>\n",
       "      <td>1.5</td>\n",
       "      <td>Iris-virginica</td>\n",
       "    </tr>\n",
       "    <tr>\n",
       "      <th>4</th>\n",
       "      <td>5.0</td>\n",
       "      <td>3.6</td>\n",
       "      <td>1.4</td>\n",
       "      <td>0.2</td>\n",
       "      <td>Iris-setosa</td>\n",
       "    </tr>\n",
       "    <tr>\n",
       "      <th>109</th>\n",
       "      <td>7.2</td>\n",
       "      <td>3.6</td>\n",
       "      <td>6.1</td>\n",
       "      <td>2.5</td>\n",
       "      <td>Iris-virginica</td>\n",
       "    </tr>\n",
       "    <tr>\n",
       "      <th>118</th>\n",
       "      <td>7.7</td>\n",
       "      <td>2.6</td>\n",
       "      <td>6.9</td>\n",
       "      <td>2.3</td>\n",
       "      <td>Iris-virginica</td>\n",
       "    </tr>\n",
       "    <tr>\n",
       "      <th>82</th>\n",
       "      <td>5.8</td>\n",
       "      <td>2.7</td>\n",
       "      <td>3.9</td>\n",
       "      <td>1.2</td>\n",
       "      <td>Iris-versicolor</td>\n",
       "    </tr>\n",
       "  </tbody>\n",
       "</table>\n",
       "</div>"
      ],
      "text/plain": [
       "       0    1    2    3                4\n",
       "119  6.0  2.2  5.0  1.5   Iris-virginica\n",
       "4    5.0  3.6  1.4  0.2      Iris-setosa\n",
       "109  7.2  3.6  6.1  2.5   Iris-virginica\n",
       "118  7.7  2.6  6.9  2.3   Iris-virginica\n",
       "82   5.8  2.7  3.9  1.2  Iris-versicolor"
      ]
     },
     "execution_count": 5,
     "metadata": {},
     "output_type": "execute_result"
    }
   ],
   "source": [
    "import pandas as pd\n",
    "from sklearn.utils import shuffle\n",
    "import numpy as np\n",
    "\n",
    "df = pd.read_csv('https://archive.ics.uci.edu/ml/machine-learning-databases/iris/iris.data', header=None)\n",
    "# Shuffling the data\n",
    "df = shuffle(df)\n",
    "\n",
    "df.tail()"
   ]
  },
  {
   "cell_type": "code",
   "execution_count": 224,
   "id": "a689fda5",
   "metadata": {},
   "outputs": [],
   "source": [
    "from sklearn.model_selection import train_test_split\n",
    "import matplotlib.pyplot as plt\n",
    "X = df.iloc[:, 0:4].values\n",
    "Y = df.iloc[:, 4].values\n",
    "Y= np.where( Y ==\"Iris-setosa\",1,-1)\n",
    "train_data, test_data, train_labels, test_labels = train_test_split(\n",
    "                            X, Y, test_size=0.25)"
   ]
  },
  {
   "cell_type": "code",
   "execution_count": 225,
   "id": "d0fae553",
   "metadata": {},
   "outputs": [
    {
     "data": {
      "text/plain": [
       "((112, 4), (112,))"
      ]
     },
     "execution_count": 225,
     "metadata": {},
     "output_type": "execute_result"
    }
   ],
   "source": [
    "train_data.shape, train_labels.shape\n"
   ]
  },
  {
   "cell_type": "code",
   "execution_count": 221,
   "id": "59412fff",
   "metadata": {},
   "outputs": [
    {
     "data": {
      "text/plain": [
       "<__main__.Perceptron at 0x2a968016c90>"
      ]
     },
     "execution_count": 221,
     "metadata": {},
     "output_type": "execute_result"
    }
   ],
   "source": [
    "perceptron_e = Perceptron(eta=0.1,n_iter=100)\n",
    "perceptron_e.fit(train_data,train_labels)"
   ]
  },
  {
   "cell_type": "code",
   "execution_count": 222,
   "id": "10be29b4",
   "metadata": {},
   "outputs": [],
   "source": [
    "predecty=perceptron_e.predict(test_data)\n"
   ]
  },
  {
   "cell_type": "code",
   "execution_count": 223,
   "id": "ab7e27ce",
   "metadata": {},
   "outputs": [
    {
     "name": "stdout",
     "output_type": "stream",
     "text": [
      "Accuracy: 100.0 %\n"
     ]
    }
   ],
   "source": [
    "from sklearn.metrics import accuracy_score\n",
    "accuracy = accuracy_score(predecty, test_labels)\n",
    "print('Accuracy:', round(accuracy, 2) * 100, \"%\")\n"
   ]
  },
  {
   "cell_type": "code",
   "execution_count": 394,
   "id": "39c4874c",
   "metadata": {},
   "outputs": [],
   "source": [
    "from sklearn.linear_model import Perceptron as P\n",
    "\n",
    "perceptron = P(random_state = 42, max_iter = 20, tol = 0.001)\n",
    "perceptron.fit(train_data, train_labels)\n",
    "test_preds = perceptron.predict(test_data)"
   ]
  },
  {
   "cell_type": "code",
   "execution_count": 395,
   "id": "ac6c6c4e",
   "metadata": {},
   "outputs": [
    {
     "name": "stdout",
     "output_type": "stream",
     "text": [
      "Accuracy on test data:  100.0 %\n"
     ]
    }
   ],
   "source": [
    "test_accuracy = accuracy_score(test_preds, test_labels)\n",
    "print(\"Accuracy on test data: \", round(test_accuracy, 2) * 100, \"%\")"
   ]
  },
  {
   "cell_type": "markdown",
   "id": "7e34e0fc",
   "metadata": {},
   "source": [
    "Linear classification"
   ]
  },
  {
   "cell_type": "code",
   "execution_count": 585,
   "id": "3172817f",
   "metadata": {},
   "outputs": [
    {
     "data": {
      "image/png": "[encoded data removed]",
      "text/plain": [
       "<Figure size 640x480 with 1 Axes>"
      ]
     },
     "metadata": {},
     "output_type": "display_data"
    }
   ],
   "source": [
    "import matplotlib.pyplot as plt\n",
    "from sklearn import datasets\n",
    "\n",
    "X, y = datasets.make_blobs(n_samples=100, centers=2, n_features=2, center_box=(0, 10))\n",
    "plt.plot(X[:, 0][y == 0], X[:, 1][y == 0], 'g^')\n",
    "plt.plot(X[:, 0][y == 1], X[:, 1][y == 1], 'bs')\n",
    "plt.show()\n",
    "\n",
    "x_train,x_test,y_train,y_test=train_test_split(X,y,test_size=0.2)\n"
   ]
  },
  {
   "cell_type": "code",
   "execution_count": 586,
   "id": "daf3c67c",
   "metadata": {},
   "outputs": [
    {
     "name": "stdout",
     "output_type": "stream",
     "text": [
      "converge\n"
     ]
    }
   ],
   "source": [
    "perceptron_2= Perceptron(eta=0.01,n_iter=100)\n",
    "\n",
    "y_train = np.where(y_train==1,1,-1)\n",
    "y_test = np.where(y_test==1,1,-1)\n",
    "y_train\n",
    "\n",
    "perceptron_2.fit(x_train,y_train,tol=10**-3)\n",
    "\n",
    "y_predict=perceptron_2.predict(x_test)\n"
   ]
  },
  {
   "cell_type": "code",
   "execution_count": 587,
   "id": "38d9ad87",
   "metadata": {},
   "outputs": [
    {
     "name": "stdout",
     "output_type": "stream",
     "text": [
      "Accuracy: 100.0 %\n"
     ]
    }
   ],
   "source": [
    "from sklearn.metrics import accuracy_score\n",
    "accuracy = accuracy_score(y_predict, y_test)\n",
    "print('Accuracy:', round(accuracy, 2) * 100, \"%\")\n"
   ]
  },
  {
   "cell_type": "code",
   "execution_count": 588,
   "id": "020940b2",
   "metadata": {},
   "outputs": [],
   "source": [
    "beta=perceptron_2.beta\n",
    "beta_0=perceptron_2.betazero\n",
    "\n",
    "b1,b2=beta\n",
    "\n",
    "xmin,xmax=x_train[:,0].min()-0.5,x_train[:,0].max()+0.5\n",
    "xmin2, xmax2 = x_train[:, 1].min() - 0.5, x_train[:, 1].max() + 0.5\n",
    "x1_values=np.linspace(xmin,xmax,100)\n",
    "x2_values=-(b1*x1_values+beta_0)/b2"
   ]
  },
  {
   "cell_type": "code",
   "execution_count": 589,
   "id": "119e6352",
   "metadata": {},
   "outputs": [
    {
     "data": {
      "image/png": "[encoded data removed]",
      "text/plain": [
       "<Figure size 640x480 with 1 Axes>"
      ]
     },
     "metadata": {},
     "output_type": "display_data"
    }
   ],
   "source": [
    "plt.plot(x_train[:, 0][y_train == -1], x_train[:, 1][y_train == -1], 'g^')\n",
    "plt.plot(x_train[:, 0][y_train == 1], x_train[:, 1][y_train == 1], 'bs')\n",
    "plt.plot(x1_values[ (x2_values > xmin2) & (x2_values < xmax2)  ],x2_values[(x2_values > xmin2) & (x2_values < xmax2)])\n",
    "plt.show()"
   ]
  },
  {
   "cell_type": "code",
   "execution_count": null,
   "id": "18dbcd60",
   "metadata": {},
   "outputs": [],
   "source": []
  },
  {
   "cell_type": "code",
   "execution_count": null,
   "id": "cbe11a03",
   "metadata": {},
   "outputs": [],
   "source": []
  }
 ],
 "metadata": {
  "kernelspec": {
   "display_name": "base",
   "language": "python",
   "name": "python3"
  },
  "language_info": {
   "codemirror_mode": {
    "name": "ipython",
    "version": 3
   },
   "file_extension": ".py",
   "mimetype": "text/x-python",
   "name": "python",
   "nbconvert_exporter": "python",
   "pygments_lexer": "ipython3",
   "version": "3.12.7"
  }
 },
 "nbformat": 4,
 "nbformat_minor": 5
}
